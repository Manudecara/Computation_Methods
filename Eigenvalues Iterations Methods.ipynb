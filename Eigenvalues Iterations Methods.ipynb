{
  "cells": [
    {
      "metadata": {},
      "cell_type": "markdown",
      "source": "## Eigenvalues Iterations Methods ##"
    },
    {
      "metadata": {
        "trusted": false
      },
      "cell_type": "code",
      "source": "import numpy as np\nimport matplotlib.pyplot as plt\nimport scipy \nfrom scipy.linalg import qr\n\n'''Power Method'''\n\ndef power_iteration(A,k):\n    n = np.shape(A)[0]\n    q = np.random.rand(n)+ 1j * np.random.randn(n)\n    eigenvalues = np.zeros(k,dtype = 'complex128')\n    \n    for i in range(k):\n        z = A@q\n        q = z/np.linalg.norm(z,2)\n        eigenvalues[i] = np.conjugate(q)@A@q\n                  \n    return eigenvalues,np.arange(k)\n\nA = [[2,1,1],[1,3,1],[1,1,4]]\nprint(power_iteration(A,10))\n#plt.plot(power_iteration(A,10)[1],power_iteration(A,10)[0])",
      "execution_count": 5,
      "outputs": [
        {
          "name": "stdout",
          "output_type": "stream",
          "text": "(array([4.98833891+0.00000000e+00j, 5.16605389-2.22044605e-16j,\n       5.20377699+0.00000000e+00j, 5.21198761+2.22044605e-16j,\n       5.21380147+2.22044605e-16j, 5.21420439-2.22044605e-16j,\n       5.21429406+0.00000000e+00j, 5.21431402+2.22044605e-16j,\n       5.21431847+0.00000000e+00j, 5.21431946+2.22044605e-16j]), array([0, 1, 2, 3, 4, 5, 6, 7, 8, 9]))\n"
        }
      ]
    },
    {
      "metadata": {
        "trusted": false
      },
      "cell_type": "code",
      "source": "'''Inverse Iteration'''\n\ndef inverse_iteration(A,k):\n    n = np.shape(A)[0]\n    q = np.random.rand(n) + 1j * np.random.randn(n)\n    eigenvalues = np.zeros(k,dtype = 'complex128')\n    mu = 5\n    \n    for i in range(k):\n        w = np.linalg.solve((A-mu*np.eye(n)),q)\n        q = w/np.linalg.norm(w,2)\n        eigenvalues[i] = np.conjugate(q)@A@q\n                  \n    return eigenvalues \n\nA = [[2,1,1],[1,3,1],[1,1,4]]\nprint(inverse_iteration(A,10))",
      "execution_count": null,
      "outputs": []
    },
    {
      "metadata": {
        "trusted": false
      },
      "cell_type": "code",
      "source": "'''Rayleigh Quotient'''\n\ndef rayleigh_quotient(A,k):\n    n = np.shape(A)[0]\n    q =  np.array([1/(3)**(0.5),1/(3)**(0.5),1/(3)**(0.5)]) #np.random.rand(n) + 1j * np.random.randn(n)\n    eigenvalues = np.zeros(k,dtype = 'complex128')\n    eigenvalues[0] = np.conjugate(q)@A@q         \n    \n    for i in range(1,k):\n        w = np.linalg.solve((A-eigenvalues[i-1]*np.eye(n)),q)\n        q = w/np.linalg.norm(w,2)\n        eigenvalues[i] = np.conjugate(q)@A@q\n                  \n    return eigenvalues \n\nA = [[2,1,1],[1,3,1],[1,1,4]]\nprint(rayleigh_quotient(A,10))\n",
      "execution_count": null,
      "outputs": []
    },
    {
      "metadata": {
        "trusted": false
      },
      "cell_type": "code",
      "source": "'''Pure QR Algorithm'''\n\ndef QR_algorithm(n,k):\n    A = np.random.randn(n,n)+1j*np.random.rand(n,n)\n    for i in range(k):\n        Q,R = scipy.linalg.qr(A)\n        A = R@Q \n    return Q,R\n    \nprint(QR_algorithm(3,5))\n",
      "execution_count": 6,
      "outputs": [
        {
          "name": "stdout",
          "output_type": "stream",
          "text": "(array([[-9.06322858e-01+4.22469027e-01j,  2.35873628e-04+9.93688459e-03j,\n        -1.19821755e-05-6.26306268e-06j],\n       [-7.96073208e-03+5.95182317e-03j, -2.27514195e-01-9.73723739e-01j,\n         7.55217593e-04+5.18911258e-05j],\n       [ 6.16258042e-06-1.52297307e-06j,  4.42203436e-04-6.14528213e-04j,\n        -6.04289445e-01-7.96764516e-01j]]), array([[ 2.59148178+0.j        , -0.04686276+0.56853488j,\n         0.05353043-0.34337784j],\n       [ 0.        +0.j        ,  0.71783861+0.j        ,\n         1.80648661-0.76767934j],\n       [ 0.        +0.j        ,  0.        +0.j        ,\n        -0.14205673+0.j        ]]))\n"
        }
      ]
    },
    {
      "metadata": {
        "trusted": false
      },
      "cell_type": "code",
      "source": "",
      "execution_count": null,
      "outputs": []
    }
  ],
  "metadata": {
    "kernelspec": {
      "name": "python36",
      "display_name": "Python 3.6",
      "language": "python"
    },
    "language_info": {
      "mimetype": "text/x-python",
      "nbconvert_exporter": "python",
      "name": "python",
      "pygments_lexer": "ipython3",
      "version": "3.6.6",
      "file_extension": ".py",
      "codemirror_mode": {
        "version": 3,
        "name": "ipython"
      }
    }
  },
  "nbformat": 4,
  "nbformat_minor": 2
}