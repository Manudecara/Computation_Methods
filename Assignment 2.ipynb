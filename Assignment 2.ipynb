{
 "cells": [
  {
   "cell_type": "markdown",
   "metadata": {},
   "source": [
    "# Assignment 2\n",
    "### Anmol Aggarwal 16009258"
   ]
  },
  {
   "cell_type": "markdown",
   "metadata": {},
   "source": [
    "Submission Deadline: Friday, 9 February 2pm via Moodle upload."
   ]
  },
  {
   "cell_type": "markdown",
   "metadata": {},
   "source": [
    "## Theoretical Questions (no programming required)"
   ]
  },
  {
   "cell_type": "markdown",
   "metadata": {},
   "source": [
    "1.) $\\textbf{Solve the following system of equations using LU decomposition without pivoting.}$\n",
    "\n",
    "$$\n",
    "\\underbrace{\\begin{bmatrix} 1 & 1 & 1\\\\\n",
    "2 & 4 & 2\\\\\n",
    "-1 & 5 & 4\n",
    "\\end{bmatrix}}_A\n",
    "\\underbrace{\\begin{bmatrix}\n",
    "x_1 \\\\ x_2 \\\\ x_3\n",
    "\\end{bmatrix}}_x=\n",
    "\\underbrace{\\begin{bmatrix}\n",
    "2\\\\ 8 \\\\ 5\n",
    "\\end{bmatrix}}_b\n",
    "$$\n"
   ]
  },
  {
   "cell_type": "markdown",
   "metadata": {},
   "source": [
    "$\\textbf{Solution}$\n",
    "\n",
    "Applying the Gaussian Elimination to $A$ without pivoting $ \\rightarrow \\left[\\begin{array}{ccc}\n",
    "1&1&1\\\\\n",
    "2&4&2\\\\\n",
    "-1&5&4\\\\\n",
    "\\end{array}\\right]\\xrightarrow{\\varepsilon(2,1:-2)}\n",
    " \\left[\\begin{array}{ccc}\n",
    "1&1&1\\\\\n",
    "0&2&0\\\\\n",
    "-1&5&4\\\\\n",
    "\\end{array}\\right]\\xrightarrow{\\varepsilon(3,1:1)}\n",
    " \\left[\\begin{array}{ccc}\n",
    "1&1&1\\\\\n",
    "0&2&0\\\\\n",
    "0&6&5\\\\\n",
    "\\end{array}\\right]\\xrightarrow{\\varepsilon(3,2:-3)}\n",
    "\\left[\\begin{array}{ccc}\n",
    "1&1&1\\\\\n",
    "0&2&0\\\\\n",
    "0&0&5\\\\\n",
    "\\end{array}\\right]$\n",
    "\n",
    "$$\\textbf{U}=\\left[\\begin{array}{ccc}\n",
    "1&1&1\\\\\n",
    "0&2&0\\\\\n",
    "0&0&5\\\\\n",
    "\\end{array}\\right]\\quad \n",
    "\\textbf{L}=\\left[\\begin{array}{ccc}\n",
    "1&0&0\\\\\n",
    "2&1&0\\\\\n",
    "-1&3&1\\\\\n",
    "\\end{array}\\right]$$ and $A$ can be factorised as $\\textbf{A=LU}$ \n",
    "\n",
    "$Ax=b\\implies L\\underbrace{Ux}_y=b.$ Hence we can solve two $Ax=b$ by performing Forward-Subsitution $Ly=b$ and Backward Subsitution $Ux=y$\n",
    "1. $Ly=b \\implies$ \n",
    "$\\begin{bmatrix} 1 & 0 & 0\\\\\n",
    "2 & 1 & 0\\\\\n",
    "-1 & 3 & 1\n",
    "\\end{bmatrix}\n",
    "\\begin{bmatrix}\n",
    "y_1 \\\\ y_2 \\\\ y_3\n",
    "\\end{bmatrix}=\n",
    "\\begin{bmatrix}\n",
    "2\\\\ 8 \\\\5\n",
    "\\end{bmatrix}\\implies y_1=2,\\quad  2y_1+y_2=8\\Rightarrow y_2=4,\\quad  -y_1+3y_2+y_3=5\\Rightarrow y_3=-5\\implies y = \\begin{bmatrix}\n",
    "2 \\\\ 4 \\\\-5\n",
    "\\end{bmatrix}$\n",
    "\n",
    "2. $Ux=y$ $\\implies \n",
    "\\begin{bmatrix} 1 & 1 & 0\\\\\n",
    "0 & 2 & 0\\\\\n",
    "0 & 0 & 5\n",
    "\\end{bmatrix}\n",
    "\\begin{bmatrix}\n",
    "x_1 \\\\ x_2 \\\\ x_3\n",
    "\\end{bmatrix}=\n",
    "\\begin{bmatrix}\n",
    "2\\\\ 4 \\\\ -5\n",
    "\\end{bmatrix}\\implies 5x_3 = -5,\\Rightarrow x_3=-1,\\quad 2x_2=4\\Rightarrow x_2=2,\\quad x_1+x_2+x_3=2\\Rightarrow x_1=1\\implies x=\\begin{bmatrix}\n",
    "1\\\\ 2 \\\\ -1\n",
    "\\end{bmatrix}$\n",
    "\n",
    "Hence the solution the system of equations $Ax=b$ is $x=\\begin{bmatrix}\n",
    "1\\\\ 2 \\\\ -1\n",
    "\\end{bmatrix} \\quad as\\;required.$"
   ]
  },
  {
   "cell_type": "markdown",
   "metadata": {},
   "source": [
    "2.) **Let $L$ be an arbitrary non-singular lower triangular matrix. Show that $\\textbf{L}^{-1}$ is also lower triangular. Correspondingly, show that the inverse of a nonsingular upper triangular matrix is upper triangular.**"
   ]
  },
  {
   "cell_type": "markdown",
   "metadata": {},
   "source": [
    "$\\textbf{Solution}$ \n",
    "\n",
    "**Part 1**\n",
    "\n",
    "$\\underline{Proof\\ by\\ Induction}$\n",
    "\n",
    "* For $n=2:$ Let $\\quad L= \\left[\\begin{array}{ccc}\n",
    "l_{11}&0\\\\\n",
    "l_{21}&l_{22}\\\\\n",
    "\\end{array}\\right] \\quad \\implies \\quad L^{-1} = \\frac{1}{l_{11}l_{22}}\\left[\\begin{array}{ccc}\n",
    "l_{22}&0\\\\\n",
    "-l_{21}&l_{11}\\\\\n",
    "\\end{array}\\right]$ hence $L^{-1}$ is also a Lower Triangular Matrix and the statement holds. \n",
    "\n",
    " \n",
    "* Let $n>2$ and suppose the statement holds for all $k\\ \\times \\ k$ matrix $\\textbf{L}_k$ where $\\textbf{L}_k\\in\\mathbb{R}^{k\\times k}$ and $2\\leq k< n $ and let: \n",
    "\n",
    "$$\\textbf{L}_{k+1} = \\left[\\begin{array}{ccc}\n",
    "\\textbf{L}_k&0\\\\\n",
    "\\textbf{x}^T&y\\\\\n",
    "\\end{array}\\right] \\quad\\quad\\quad \\textbf{L}_{k+1}^{-1} = \\left[\\begin{array}{ccc}\n",
    "\\textbf{M}_k&\\textbf{a}\\\\\n",
    "\\textbf{z}^T&t\\\\\n",
    "\\end{array}\\right]$$ \n",
    "\n",
    "where $\\textbf{x}\\ ,\\ \\textbf{z}\\ ,\\textbf{a} $ are column vectors, $y\\ ,\\ t\\in\\mathbb{R}$ and $\\textbf{M}_k$ is a $k\\times k$ matrix and $\\textbf{L}_{k+1}\\in\\mathbb{R}^{(k+1)\\times (k+1)}$.\n",
    "\n",
    "**Note:** $\\quad \\textbf{L}_{k+1} \\textbf{L}_{k+1}^{-1} = \\textbf{I}_{k+1} \\quad \\implies \\quad \n",
    "\\left[\\begin{array}{ccc}\n",
    "\\textbf{L}_k&\\textbf{0}\\\\\n",
    "\\textbf{x}^T&y\\\\\n",
    "\\end{array}\\right] \\left[\\begin{array}{ccc}\n",
    "\\textbf{M}_k&\\textbf{a}\\\\\n",
    "\\textbf{z}^T&t\\\\\n",
    "\\end{array}\\right] = \\left[\\begin{array}{ccc}\n",
    "\\textbf{I}_k&\\textbf{0}\\\\\n",
    "\\textbf{0}^T&1\\\\\n",
    "\\end{array}\\right] \\quad \\implies \\quad  \\left[\\begin{array}{ccc}\n",
    "\\textbf{L}_k \\textbf{M}_k&\\textbf{L}_k \\textbf{a}\\\\\n",
    "\\textbf{x}^T \\textbf{M}_k + y\\textbf{z}^T& \\textbf{x}^T\\textbf{a} + yt\\\\\n",
    "\\end{array}\\right] = \\left[\\begin{array}{ccc}\n",
    "\\textbf{I}_k&\\textbf{0}\\\\\n",
    "\\textbf{0}^T&1\\\\\n",
    "\\end{array}\\right]  $\n",
    "\n",
    "$$\\textbf{L}_k \\textbf{M}_k = \\textbf{I}_{k} \\Rightarrow \\textbf{M}_k = \\textbf{L}_k^{-1} \\ , \\ \\textbf{L}_k \\textbf{a} = \\textbf{0} \\ , \\ \\textbf{x}^T \\textbf{M}_k + y\\textbf{z}^T = \\textbf{0}^T \\ , \\ \\textbf{x}^T\\textbf{a} + yt = 1 $$ \n",
    "\n",
    "We know that $\\textbf{a} = \\textbf{0}$  as $\\textbf{L}_k$ is a non-singular matrix; the remaining two equations determine $\\textbf{z}$ and $t$ noting $y\\neq 0.$ but this also implies $t\\neq 0$ ($\\textbf{x}^T\\textbf{a} + yt = 1$) \n",
    "\n",
    "We can express $\\textbf{L}_{k+1}^{-1}$ in the form:  $$ \\textbf{L}_{k+1}^{-1} = \\left[\\begin{array}{ccc}\n",
    "\\textbf{L}_k^{-1}&\\textbf{0}\\\\\n",
    "\\textbf{z}^T& t\\\\\n",
    "\\end{array}\\right]\\quad$$ \n",
    "\n",
    "This shows $\\textbf{L}_{k+1}^{-1}$ is lower triangular matrix of order $\\textbf{k+1}$ and hence the inductive step is complete, hence statement holds for $n > 2$. We have proved that inverse of a non-singular lower triangular matrix is also a lower triangular matrix $\\square$ \n",
    "\n",
    "**Part 2** \n",
    "\n",
    "Since $U$ is an upper triangular matrix, we can deduce that $U^{T}$ is a lower triangular matrix. Note that ${(U^{T})}^{-1}={(U^{-1})}^{T}$ which is itself is a lower triangular. Therefore $U^{-1}=(U^{-1})^{T})^{T})$ is an upper triangular matrix. $\\square$\n"
   ]
  },
  {
   "cell_type": "markdown",
   "metadata": {},
   "source": [
    "3.) $\\textbf{Let $A\\in\\mathbb{R}^{n\\times n}$ be nonsingular. Show that $A$ has an LU factorization if and only if for each $ k<n $ the upper-left $k\\times k$ block}$ $A[0:k,0:k]$ $\\textbf{is non singular. Hint: Use that a determinant of a matrix does not change if a multiple of one row is added to another row.}$ \n"
   ]
  },
  {
   "cell_type": "markdown",
   "metadata": {},
   "source": [
    "$\\textbf{Solution}$  \n",
    "\n",
    "$(\\bf{\\Longrightarrow})$ Let's us assume $A\\in\\mathbb{R}^{n\\times n}$ is an non-singular matrix and has an $LU$ factorisation, then we need to show that for each $k$ where $k<n$, the upper $k\\times k$ block $A[0:k,0:k]$ is non-singular. Looking at the problem with block structure where each entry represents a matrix: \n",
    "$$\\left[\\begin{array}{ccc}\n",
    "A_{11}&A_{12}\\\\\n",
    "A_{21}&A_{22}\\\\\n",
    "\\end{array}\\right] = \\left[\\begin{array}{ccc}\n",
    "L_{11}&0\\\\\n",
    "L_{21}&L_{22}\\\\\n",
    "\\end{array}\\right] \\left[\\begin{array}{ccc}\n",
    "U_{11}&U_{12}\\\\\n",
    "0&U_{22}\\\\\n",
    "\\end{array}\\right]$$\n",
    "From this we have $A_{11} = L_{11}U_{11}$. Thus any upper left $k\\times k$ block of $A$ can be expressed as $A_{ij} = L_{ij}U_{ij}\\ ,\\ 0\\leq i,j <k$ \n",
    "\n",
    "We know that $A$ is non-singular $\\implies det(A)\\neq 0.$ Hence:  \n",
    "$$ det(A) = det(LU) = det(L)det(U) = det(U)$$ \n",
    "\n",
    "As we know that L is a **unit** lower triangular matrix with $1's$ on the leading diagonals and $det(L) = 1$. Since A is a non-singular $\\Rightarrow$ $det(U)\\neq 0\\Rightarrow$ all the entries $u_{ii}$ in the leading diagonal are non-zero. If we now look at the upper left $k\\times k$ block $A[0:k,0:k]$ then: \n",
    "\n",
    "$$det(A[0:k,0:k]) = det(L[0:k,0:k])det(U[0:k,0:k]) = det(U[0:k,0:k])$$ \n",
    "\n",
    "$det(U[0:k,0:k])\\neq 0 \\Rightarrow$ the upper-left $A[0:k,0:k]$ is non-singular. Thus this statement holds for an **arbitrary sized upper-left block** $k\\times k$ where $k<n.$ $ \\therefore A[0:k,0:k]$ is non-singular. $\\square$ \n",
    "\n",
    "\n",
    "$(\\bf{\\Longleftarrow})$ Need to show if upper left $k\\times k$ block $A[0:k,0:k]\\ ,\\ k<n$ is a non-singular, then matrix $A\\in\\mathbb{R}^{n\\times n}$ has an $LU$ factorisation. \n",
    "\n",
    "Let us begin by verifying for $\\textbf{n=2} \\Rightarrow k=1$ (Note: $k\\neq 0 \\Rightarrow A[0:0,0:0] = [ \\ ]$ empty set)\n",
    "\n",
    "We intend to show that any $2\\times 2$ non-singular matrix $A = \\left[\\begin{array}{ccc}\n",
    "a&b\\\\\n",
    "c&d\\\\\n",
    "\\end{array}\\right]$ where ($A[0:k,0:k] \\ , \\ a\\neq 0$ as per the assumption) can be expressed as a product of a unit lower triangular matrix $L$ and upper triangular $U$ of order 2. We wish to find existence of $L,U\\in\\mathbb{R}^{2\\times 2}$. Let: \n",
    "\n",
    "$$L = \\left[\\begin{array}{ccc}\n",
    "1&0\\\\\n",
    "m&1\\\\\n",
    "\\end{array}\\right] \\quad  U = \\left[\\begin{array}{ccc}\n",
    "u&v\\\\\n",
    "0&x\\\\\n",
    "\\end{array}\\right] \\implies A = \\left[\\begin{array}{ccc}\n",
    "a&b\\\\\n",
    "c&d\\\\\n",
    "\\end{array}\\right] = LU = \\left[\\begin{array}{ccc}\n",
    "u&v\\\\\n",
    "mu&mv+x\\\\\n",
    "\\end{array}\\right]$$  \n",
    "\n",
    "where $m,u,v,x\\in\\mathbb{R}$. Looking at the coefficients: $a = u\\neq 0$ then $c=mu \\Rightarrow m = \\frac{c}{u} \\ ,\\ v=b \\ ,\\ d=mv+x \\Rightarrow x=d-\\frac{bc}{a}$. \n",
    "$$L = \\left[\\begin{array}{ccc}\n",
    "1&0\\\\\n",
    "(\\frac{c}{a})&1\\\\\n",
    "\\end{array}\\right] \\quad  U = \\left[\\begin{array}{ccc}\n",
    "a&b\\\\\n",
    "0&d-\\frac{bc}{a}\\\\\n",
    "\\end{array}\\right]$$\n",
    "\n",
    "Thus we've shown there **exists** a $LU$ factorisation for $A\\in\\mathbb{R}^{2\\times 2}$. \n",
    "\n",
    "\n",
    "Suppose the statement holds for all $\\textbf{A}\\in\\mathbb{R}^{k\\times k}$ of order $k$ where $2\\leq k < n.$ Let's consider the case where $\\textbf{A}\\in\\mathbb{R}^{(k+1)\\times (k+1)}$. We know that upper-left matrix $A[0:k,0:k]$ is a non-singular and can be factorised into $A[0:k,0:k]=L[0:k,0:k]U[0:k,0:k]$ \n",
    "\n",
    "We can express $A = \\left[\\begin{array}{ccc}\n",
    "\\textbf{A}_{kk}&\\textbf{b}\\\\\n",
    "\\textbf{c}^T&d\\\\\n",
    "\\end{array}\\right]$ where $\\textbf{A}_{kk}$ is a $k\\times k$ matrix and $\\textbf{c}^T\\ , \\ \\textbf{b}$ are column vectors. \n",
    "\n",
    "Let $\\textbf{L}_{kk},\\textbf{U}_{kk}\\in\\mathbb{R}^{k\\times k}$ and lets express:$$L^{\\prime} = \\left[\\begin{array}{ccc}\n",
    "\\textbf{L}_{kk}&\\textbf{0}\\\\\n",
    "\\textbf{m}^T&1\\\\\n",
    "\\end{array}\\right] \\quad U^{\\prime} = \\left[\\begin{array}{ccc}\n",
    "\\textbf{U}_{kk}&\\textbf{v}\\\\\n",
    "\\textbf{0}^T&x\\\\\n",
    "\\end{array}\\right]$$ \n",
    "where $\\textbf{m,v}$ are column vectors and $x\\in\\mathbb{R}$ where $L^{\\prime}, U^{\\prime}\\in\\mathbb{R}^{(k+1)\\times (k+1)}$. We seek an existence of $L^{\\prime}$ and $U^{\\prime}$ to show that $\\textbf{A}\\in\\mathbb{R}^{(k+1)\\times (k+1)}$ can be factorised:  \n",
    "$$\\textbf{A} = \\left[\\begin{array}{ccc}\n",
    "\\textbf{A}_{kk}&\\textbf{b}\\\\\n",
    "\\textbf{c}^T&d\\\\\n",
    "\\end{array}\\right] = \\left[\\begin{array}{ccc}\n",
    "\\textbf{L}_{kk}\\textbf{U}_{kk}&\\textbf{L}_{kk}\\textbf{v}\\\\\n",
    "\\textbf{m}^T\\textbf{U}_{kk}&\\textbf{m}^T\\textbf{v}+x\\\\\n",
    "\\end{array}\\right] $$\n",
    "\n",
    "Note: $det(\\textbf{A}_{kk}) = \\underbrace{det(\\textbf{L}_{kk})}_1det(\\textbf{U}_{kk})=det(\\textbf{U}_{kk})$. Since $\\textbf{A}_{kk}$ is non-singular $\\implies \\textbf{U}_{kk}$ is non-singular. Equating all the coefficients, we observe: \n",
    "\n",
    "$\\textbf{A}_{kk} = \\textbf{L}_{kk}\\textbf{U}_{kk} \\quad , \\textbf{b} = \\textbf{L}_{kk}\\textbf{v} \\Rightarrow \\textbf{v} = \\textbf{L}_{kk}^{-1}\\textbf{b}\\quad , \\textbf{c}^T=\\textbf{m}^T\\textbf{U}_{kk}\\Rightarrow \\textbf{m}^T = \\textbf{c}^T\\textbf{U}_{kk}^{-1} \\quad , d = \\textbf{m}^T\\textbf{v}+x \\Rightarrow x = d- \\textbf{m}^T\\textbf{v} \\Rightarrow d- \\textbf{c}^T\\textbf{U}_{kk}^{-1}\\textbf{L}_{kk}^{-1}\\textbf{b}$ \n",
    "\n",
    "$$L^{\\prime} = \\left[\\begin{array}{ccc}\n",
    "\\textbf{L}_{kk}&\\textbf{0}\\\\\n",
    "\\textbf{c}^T\\textbf{U}_{kk}^{-1}&1\\\\\n",
    "\\end{array}\\right] \\quad U^{\\prime} = \\left[\\begin{array}{ccc}\n",
    "\\textbf{U}_{kk}&\\textbf{L}_{kk}^{-1}\\textbf{b}\\\\\n",
    "\\textbf{0}^T&d- \\textbf{c}^T\\textbf{U}_{kk}^{-1}\\textbf{L}_{kk}^{-1}\\textbf{b}\\\\\n",
    "\\end{array}\\right]$$\n",
    "\n",
    "Thus we have shown the **existence** of the desired matrices $L^{\\prime}$ and $U^{\\prime}$ of order $k+1$ and thus inductive step is complete. $\\square$  "
   ]
  },
  {
   "cell_type": "markdown",
   "metadata": {},
   "source": [
    "4.) $\\textbf{Prove that the LU decomposition of a nonsingular matrix is unique if it exists.}$ "
   ]
  },
  {
   "cell_type": "markdown",
   "metadata": {},
   "source": [
    "$\\textbf{Solution}$\n",
    "\n",
    "$\\underline{Proof\\ by\\ Contradiction}$\n",
    "\n",
    "Suppose $LU$ decomposition exists but it is $not\\ unique$. Thus $A = L_1U_1 = L_2U_2$ are two distinct $LU$ factorisations of the non-singular matrix $A.$ \n",
    "\n",
    "We can rewrite the equation $L_1U_1 = L_2U_2$ as $L_2^{-1}L_1 = U_2U_1^{-1}$. $Note:$ from **part 2**, we can assume that $L_2^{-1}$ and $U_1^{-1}$ are lower and upper triangular matrix respectively. \n",
    "\n",
    "It is known that the product of two upper (lower) triangular matrices is also upper (lower) triangular matrices. \n",
    "\n",
    "$\\implies L_2^{-1}L_1$ is a lower triangular matrix with $\\textbf{1's}$ in the entries of leading diagonal as per definition and $U_2U_1^{-1}$ is an upper triangular matrix. \n",
    "\n",
    "The only matrix which satisfies this equation $L_2^{-1}L_1 = U_2U_1^{-1}$ is the Identity matrix $I$ \n",
    "\n",
    "$$\\implies L_2^{-1}L_1 = I = U_2U_1^{-1} \\Rightarrow L_1=L_2 \\quad and \\quad U_1=U_2$$ \n",
    "\n",
    "This is a contradiction and we have proved that $LU$ decomposition for $A$ is $unique$ $\\square$ "
   ]
  },
  {
   "cell_type": "markdown",
   "metadata": {},
   "source": [
    "## Programming Exercise"
   ]
  },
  {
   "cell_type": "markdown",
   "metadata": {},
   "source": [
    "1.) **Implement a method `P,L,U = partial_pivot_lu(A)` that, given a matrix A, computes an LU decomposition with partial pivoting.**"
   ]
  },
  {
   "cell_type": "code",
   "execution_count": 4,
   "metadata": {},
   "outputs": [
    {
     "name": "stdout",
     "output_type": "stream",
     "text": [
      "Residual: 2.688203172958104e-13\n"
     ]
    }
   ],
   "source": [
    "                     '''This Algorithm applies Gaussian Elimination to a matrix A with Partial Pivoting'''\n",
    "\n",
    "import numpy as np \n",
    "\n",
    "def partial_pivoting_lu(A): \n",
    "    if not A.shape[0]==A.shape[1]:     # makes sure the A is a square matrix \n",
    "        raise ValueError(\"Input matrix must be square\")\n",
    "    \n",
    "    n = A.shape[0]    #rows in A\n",
    "    t = np.arange(n)  # way of tracking row permutations\n",
    "    L = np.eye(n,dtype = 'float64')  #reserves an identity matrix for L\n",
    "    U = np.zeros((n,n),dtype = 'float64') #reserves a zero matrix for U\n",
    "    U[:] = A\n",
    "    for i in range(n-1): \n",
    "        m = np.argmax(np.abs(U[i:,i]))   #gives the index of the maximum absolute value in the i-th column\n",
    "        # need to permutate L,U and row tracker t\n",
    "        U[[i,m+i]]=U[[m+i,i]]\n",
    "        L[[i,m+i],:i]=L[[m+i,i],:i]\n",
    "        t[[i,m+i]]=t[[m+i,i]]\n",
    "        for j in range(i+1,n):\n",
    "            L[j,i] = U[j,i]/U[i,i]   #appends the scalar quantity U[j,i]/U[i,i] in the j,i-th position in L\n",
    "            U[j,i:] = U[j,i:]-L[j,i]*U[i,i:]  #applying Gaussian Elimination to A (as per my code A=U)\n",
    "    P = np.eye(n)[t,:] # gives row permutation matrix P \n",
    "    return (P,L,U)        \n",
    "\n",
    "'''Testing'''\n",
    "n = 200\n",
    "A = np.random.randn(n,n)\n",
    "P,L,U = partial_pivoting_lu(A)\n",
    "residual = np.linalg.norm((P@A)-(L@U))   #checking the accuracy of my code \n",
    "print('Residual: {0}'.format(residual))"
   ]
  },
  {
   "cell_type": "markdown",
   "metadata": {},
   "source": [
    "2.) **Now write a method `P1, P2, L, U = complete_pivot_lu(A)`, which implements complete pivoting, such that\n",
    "$P_1AP_2 = LU$. Remember that complete pivoting looks for the largest element across the whole remaining sub-matrix, and not just across the column.**"
   ]
  },
  {
   "cell_type": "code",
   "execution_count": 5,
   "metadata": {},
   "outputs": [
    {
     "name": "stdout",
     "output_type": "stream",
     "text": [
      "Residual: 1.8580614684270067e-13\n"
     ]
    }
   ],
   "source": [
    "                '''This Algorithm applies Gaussian Elimination to a matrix A with Complete Pivoting'''\n",
    "\n",
    "import numpy as np    \n",
    "    \n",
    "def complete_pivot_lu(A): \n",
    "    if not A.shape[0]==A.shape[1]:     # makes sure the A is a square matrix \n",
    "        raise ValueError(\"Input matrix must be square\")\n",
    "    \n",
    "    n = A.shape[0]\n",
    "    L= np.eye(n,dtype='float64')\n",
    "    U=np.zeros((n,n))\n",
    "    t1=np.arange(n)  # way of tracking row permutations\n",
    "    t2=np.arange(n)  # way of tracking column permutations\n",
    "    U[:]=A\n",
    "    for k in range(n-1):\n",
    "        m = np.argmax(abs(U[k:,k:]))             # gives the index of the maximum absolute value in a flatten array\n",
    "        # Now I need to find the position of the row and columns for a given submatrix\n",
    "        coord = ((m//len(U[k:,k:]),(m%len(U[k:,k:])))) \n",
    "        row = coord[0]+k                         #gives the row of maximum value with respect to the whole n x n matrix A\n",
    "        col = coord[1]+k                         #gives the column of maximum value with respect to the whole n x n matrix A\n",
    "        #now need to swap the rows and columns of L,U and row/column trackers t1,t2\n",
    "        U[[k,row]]=U[[row,k]]\n",
    "        U[:,[k,col]]=U[:,[col,k]]\n",
    "        L[[k,row],:k]=L[[row,k],:k]\n",
    "        L[:k,[k,col]] = L[:k,[col,k]]\n",
    "        t1[[k,row]]=t1[[row,k]]\n",
    "        t2[[k,col]]=t2[[col,k]]\n",
    "        for j in range(k+1,n):\n",
    "            L[j,k] = U[j,k]/U[k,k]\n",
    "            U[j,k:] =U[j,k:]- L[j,k]*U[k,k:]\n",
    "    P = np.identity(n)[t1,:]                  #gives row permutation matrix P\n",
    "    Q = np.identity(n)[:,t2]                  #gives column permutation matrix Q\n",
    "    return (P,Q,L,U)\n",
    "\n",
    "'''Testing'''\n",
    "n = 200\n",
    "A = np.random.randn(n,n)\n",
    "P,Q,L,U = complete_pivot_lu(A)\n",
    "residual = np.linalg.norm((P@A@Q)-(L@U))\n",
    "print('Residual: {0}'.format(residual))"
   ]
  },
  {
   "cell_type": "markdown",
   "metadata": {},
   "source": [
    "3.) **Test both method for the example matrix with large growth factor from the lecture and compute the growth factor in both cases. What do you observe?**"
   ]
  },
  {
   "cell_type": "markdown",
   "metadata": {},
   "source": [
    "**Solution**\n",
    "\n",
    "As you can see from the graphs, ***Growth Factor $\\rho $*** for Partial Pivoting grows at an ***Exponential Rate*** $2^{n-1}$ where matrix $A\\in\\mathbb{R}^{n\\times n}$ and $n\\in\\mathbb{N}.$ Whereas, ***Growth Factor*** for Complete Pivoting remains ***constant*** at **2** for $n>1$. "
   ]
  },
  {
   "cell_type": "code",
   "execution_count": 13,
   "metadata": {},
   "outputs": [
    {
     "name": "stdout",
     "output_type": "stream",
     "text": [
      "Example of a 4 x 4 matrix with large growth factor:\n",
      "[[ 1.  0.  0.  1.]\n",
      " [-1.  1.  0.  1.]\n",
      " [-1. -1.  1.  1.]\n",
      " [-1. -1. -1.  1.]]\n",
      "\n",
      "\n",
      "These graphs plot growth-factor for the given matrix when I apply both Partial Pivoting and Complete Pivoting Gaussian Elimination with different values of n.\n",
      "\n",
      "Growth Factor for 8 x 8 matrix by Partial Pivoting: 128.0\n",
      "Growth Factor for 8 x 8 matrix by Complete Pivoting: 2.0\n",
      "\n"
     ]
    },
    {
     "data": {
      "image/png": "[encoded data removed]",
      "text/plain": [
       "<matplotlib.figure.Figure at 0x7f828b6a9748>"
      ]
     },
     "metadata": {},
     "output_type": "display_data"
    },
    {
     "data": {
      "text/plain": [
       "Text(0.5,1,'Complete Pivoting')"
      ]
     },
     "execution_count": 13,
     "metadata": {},
     "output_type": "execute_result"
    },
    {
     "data": {
      "image/png": "[encoded data removed]",
      "text/plain": [
       "<matplotlib.figure.Figure at 0x7f828b7bd048>"
      ]
     },
     "metadata": {},
     "output_type": "display_data"
    }
   ],
   "source": [
    "'''Computing Growth Factor for a Backward Unstable Matrix for both Partial Pivoting and Complete Pivoting Gaussian Elimination'''\n",
    "\n",
    "import numpy as np\n",
    "import matplotlib.pyplot as plt\n",
    "\n",
    "def mat_rho(n):\n",
    "    A = np.eye(n,dtype = 'float64')\n",
    "    for j in range(n-1):\n",
    "        A += np.diag(-np.ones(n-1-j,dtype=np.float64),-j-1)\n",
    "    A[:,-1]=np.ones(n)\n",
    "    return A\n",
    "\n",
    "print('Example of a 4 x 4 matrix with large growth factor:')\n",
    "print(mat_rho(4))\n",
    "print()\n",
    "\n",
    "print()\n",
    "print('These graphs plot growth-factor for the given matrix when I apply both Partial Pivoting and Complete Pivoting Gaussian Elimination with different values of n.') \n",
    "\n",
    "nvals = np.arange(1,20)\n",
    "U_1 = partial_pivoting_lu(A)[2]         #U from Partial Pivoting\n",
    "U_2 = complete_pivot_lu(A)[3]           #U from Complete Pivoting \n",
    "rho_1 = np.zeros_like(nvals,dtype = 'float64')\n",
    "rho_2 = np.zeros_like(nvals,dtype = 'float64')\n",
    "for i,n in enumerate(nvals):\n",
    "    A = mat_rho(n)\n",
    "    U_1 = partial_pivoting_lu(A)[2]\n",
    "    U_2 = complete_pivot_lu(A)[3]\n",
    "    rho_1[i] = np.max(np.abs(U_1))/np.max(np.abs(A)) #stores values of growth factor for partial pivoting\n",
    "    rho_2[i] = np.max(np.abs(U_2))/np.max(np.abs(A)) #stores values of growth factor for complete pivoting\n",
    "print()\n",
    "print('Growth Factor for 8 x 8 matrix by Partial Pivoting: {0}'.format(rho_1[7]))\n",
    "print('Growth Factor for 8 x 8 matrix by Complete Pivoting: {0}'.format(rho_2[7]))\n",
    "print()\n",
    "#plots Growth_factor graph for partial pivoting     \n",
    "plt.plot(nvals,rho_1,'b.-')\n",
    "plt.xlabel('n')\n",
    "plt.ylabel(r'$\\rho$')\n",
    "plt.title('Partial Pivoting')\n",
    "plt.show()\n",
    "\n",
    "#plots Growth_factor graph for complete pivoting\n",
    "plt.plot(nvals,rho_2,'r.-')\n",
    "plt.xlabel('n')\n",
    "plt.ylabel(r'$\\rho$')\n",
    "plt.title('Complete Pivoting')"
   ]
  },
  {
   "cell_type": "code",
   "execution_count": null,
   "metadata": {},
   "outputs": [],
   "source": []
  }
 ],
 "metadata": {
  "anaconda-cloud": {},
  "kernelspec": {
   "display_name": "Python 3",
   "language": "python",
   "name": "python3"
  },
  "language_info": {
   "codemirror_mode": {
    "name": "ipython",
    "version": 3
   },
   "file_extension": ".py",
   "mimetype": "text/x-python",
   "name": "python",
   "nbconvert_exporter": "python",
   "pygments_lexer": "ipython3",
   "version": "3.5.4"
  }
 },
 "nbformat": 4,
 "nbformat_minor": 1
}
